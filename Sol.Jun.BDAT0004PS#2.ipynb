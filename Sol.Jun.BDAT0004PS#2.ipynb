{
 "cells": [
  {
   "cell_type": "markdown",
   "metadata": {},
   "source": [
    "Question 1"
   ]
  },
  {
   "cell_type": "code",
   "execution_count": 1,
   "metadata": {},
   "outputs": [],
   "source": [
    "# module imported\n",
    "a = 0\n",
    "\n",
    "def b():\n",
    "    global a\n",
    "    a = c(a)\n",
    "\n",
    "def c(a):\n",
    "    return a + 2\n"
   ]
  },
  {
   "cell_type": "code",
   "execution_count": 2,
   "metadata": {},
   "outputs": [
    {
     "data": {
      "text/plain": [
       "6"
      ]
     },
     "execution_count": 2,
     "metadata": {},
     "output_type": "execute_result"
    }
   ],
   "source": [
    "# execute\n",
    "b()\n",
    "b()\n",
    "b()\n",
    "a"
   ]
  },
  {
   "cell_type": "markdown",
   "metadata": {},
   "source": [
    "a = 0 #has global scope\n",
    "\n",
    "def b(): #b has global scope, () has local scope\n",
    "    global a #has global scope\n",
    "    a = c(a) #a has changed\n",
    "\n",
    "def c(a):\n",
    "    return a + 2 #has global scope\n",
    "\n",
    "Inside b() has local scope but because of global a, a=c(a) has global scope.\n",
    "because a=0 and it is a global scope, c(a)=0+2.\n",
    "and b()=2. This repeats for two more times, b()=4, b()=6.\n",
    "Then a we gave a global scope of 0 at the beginning which is 0."
   ]
  },
  {
   "cell_type": "markdown",
   "metadata": {},
   "source": [
    "Question 2"
   ]
  },
  {
   "cell_type": "code",
   "execution_count": 3,
   "metadata": {},
   "outputs": [],
   "source": [
    "#length of known file 'midterm.txt'\n",
    "def fileLength():\n",
    "    infile = open(\"midterm.txt\")\n",
    "    text= infile.read()\n",
    "    words = text.split ()\n",
    "    \n",
    "    print (len(words))"
   ]
  },
  {
   "cell_type": "code",
   "execution_count": 4,
   "metadata": {},
   "outputs": [
    {
     "name": "stdout",
     "output_type": "stream",
     "text": [
      "115\n"
     ]
    }
   ],
   "source": [
    "fileLength()"
   ]
  },
  {
   "cell_type": "code",
   "execution_count": 5,
   "metadata": {},
   "outputs": [],
   "source": [
    "#Length of unknown file 'idterm.txt'\n",
    "#Results in error text\n",
    "def fileLength():\n",
    "    infile = open(\"idterm.txt\")\n",
    "    text= infile.read()\n",
    "    words = text.split ()\n",
    "    \n",
    "    print (len(words))"
   ]
  },
  {
   "cell_type": "code",
   "execution_count": 6,
   "metadata": {},
   "outputs": [
    {
     "ename": "FileNotFoundError",
     "evalue": "[Errno 2] No such file or directory: 'idterm.txt'",
     "output_type": "error",
     "traceback": [
      "\u001b[1;31m---------------------------------------------------------------------------\u001b[0m",
      "\u001b[1;31mFileNotFoundError\u001b[0m                         Traceback (most recent call last)",
      "\u001b[1;32m<ipython-input-6-e5aab6eef9f1>\u001b[0m in \u001b[0;36m<module>\u001b[1;34m\u001b[0m\n\u001b[1;32m----> 1\u001b[1;33m \u001b[0mfileLength\u001b[0m\u001b[1;33m(\u001b[0m\u001b[1;33m)\u001b[0m\u001b[1;33m\u001b[0m\u001b[1;33m\u001b[0m\u001b[0m\n\u001b[0m",
      "\u001b[1;32m<ipython-input-5-b42e759ceed6>\u001b[0m in \u001b[0;36mfileLength\u001b[1;34m()\u001b[0m\n\u001b[0;32m      2\u001b[0m \u001b[1;31m#Results in error text\u001b[0m\u001b[1;33m\u001b[0m\u001b[1;33m\u001b[0m\u001b[1;33m\u001b[0m\u001b[0m\n\u001b[0;32m      3\u001b[0m \u001b[1;32mdef\u001b[0m \u001b[0mfileLength\u001b[0m\u001b[1;33m(\u001b[0m\u001b[1;33m)\u001b[0m\u001b[1;33m:\u001b[0m\u001b[1;33m\u001b[0m\u001b[1;33m\u001b[0m\u001b[0m\n\u001b[1;32m----> 4\u001b[1;33m     \u001b[0minfile\u001b[0m \u001b[1;33m=\u001b[0m \u001b[0mopen\u001b[0m\u001b[1;33m(\u001b[0m\u001b[1;34m\"idterm.txt\"\u001b[0m\u001b[1;33m)\u001b[0m\u001b[1;33m\u001b[0m\u001b[1;33m\u001b[0m\u001b[0m\n\u001b[0m\u001b[0;32m      5\u001b[0m     \u001b[0mtext\u001b[0m\u001b[1;33m=\u001b[0m \u001b[0minfile\u001b[0m\u001b[1;33m.\u001b[0m\u001b[0mread\u001b[0m\u001b[1;33m(\u001b[0m\u001b[1;33m)\u001b[0m\u001b[1;33m\u001b[0m\u001b[1;33m\u001b[0m\u001b[0m\n\u001b[0;32m      6\u001b[0m     \u001b[0mwords\u001b[0m \u001b[1;33m=\u001b[0m \u001b[0mtext\u001b[0m\u001b[1;33m.\u001b[0m\u001b[0msplit\u001b[0m \u001b[1;33m(\u001b[0m\u001b[1;33m)\u001b[0m\u001b[1;33m\u001b[0m\u001b[1;33m\u001b[0m\u001b[0m\n",
      "\u001b[1;31mFileNotFoundError\u001b[0m: [Errno 2] No such file or directory: 'idterm.txt'"
     ]
    }
   ],
   "source": [
    "fileLength()"
   ]
  },
  {
   "cell_type": "code",
   "execution_count": 7,
   "metadata": {},
   "outputs": [],
   "source": [
    "#Fixed so that the assigned message pops up instead of generic error text\n",
    "def fileLength():\n",
    "    try:\n",
    "        infile = open(\"idterm.txt\")\n",
    "        text= infile.read()\n",
    "        words = text.split ()\n",
    "        print (len(words))\n",
    "    except:\n",
    "        print ('File idterm.txt not found.')"
   ]
  },
  {
   "cell_type": "code",
   "execution_count": 8,
   "metadata": {},
   "outputs": [
    {
     "name": "stdout",
     "output_type": "stream",
     "text": [
      "File idterm.txt not found.\n"
     ]
    }
   ],
   "source": [
    "fileLength ()"
   ]
  },
  {
   "cell_type": "markdown",
   "metadata": {},
   "source": [
    "Question 3"
   ]
  },
  {
   "cell_type": "code",
   "execution_count": 9,
   "metadata": {},
   "outputs": [],
   "source": [
    "class Marsupial:\n",
    "    def __put_in_pouch__(self, put_in_pouch):\n",
    "        self.pouch = put_in_pouch\n",
    "    def __pouch_contents__(self, pouch_contents):\n",
    "        self.contents = pouch_contents\n",
    "        print ('{}'.format(self.pouch))"
   ]
  },
  {
   "cell_type": "code",
   "execution_count": 10,
   "metadata": {},
   "outputs": [
    {
     "ename": "AttributeError",
     "evalue": "'Marsupial' object has no attribute 'put_in_pouch'",
     "output_type": "error",
     "traceback": [
      "\u001b[1;31m---------------------------------------------------------------------------\u001b[0m",
      "\u001b[1;31mAttributeError\u001b[0m                            Traceback (most recent call last)",
      "\u001b[1;32m<ipython-input-10-14e59ae2f901>\u001b[0m in \u001b[0;36m<module>\u001b[1;34m\u001b[0m\n\u001b[0;32m      1\u001b[0m \u001b[0mm\u001b[0m \u001b[1;33m=\u001b[0m \u001b[0mMarsupial\u001b[0m\u001b[1;33m(\u001b[0m\u001b[1;33m)\u001b[0m\u001b[1;33m\u001b[0m\u001b[1;33m\u001b[0m\u001b[0m\n\u001b[1;32m----> 2\u001b[1;33m \u001b[0mm\u001b[0m\u001b[1;33m.\u001b[0m\u001b[0mput_in_pouch\u001b[0m\u001b[1;33m(\u001b[0m\u001b[1;34m'doll'\u001b[0m\u001b[1;33m)\u001b[0m\u001b[1;33m\u001b[0m\u001b[1;33m\u001b[0m\u001b[0m\n\u001b[0m\u001b[0;32m      3\u001b[0m \u001b[0mm\u001b[0m\u001b[1;33m.\u001b[0m\u001b[0mput_in_pouch\u001b[0m\u001b[1;33m(\u001b[0m\u001b[1;34m'firetruck'\u001b[0m\u001b[1;33m)\u001b[0m\u001b[1;33m\u001b[0m\u001b[1;33m\u001b[0m\u001b[0m\n\u001b[0;32m      4\u001b[0m \u001b[0mm\u001b[0m\u001b[1;33m.\u001b[0m\u001b[0mput_in_pouch\u001b[0m\u001b[1;33m(\u001b[0m\u001b[1;34m'kitten'\u001b[0m\u001b[1;33m)\u001b[0m\u001b[1;33m\u001b[0m\u001b[1;33m\u001b[0m\u001b[0m\n\u001b[0;32m      5\u001b[0m \u001b[0mm\u001b[0m\u001b[1;33m.\u001b[0m\u001b[0mpouch_contents\u001b[0m\u001b[1;33m(\u001b[0m\u001b[1;33m)\u001b[0m\u001b[1;33m\u001b[0m\u001b[1;33m\u001b[0m\u001b[0m\n",
      "\u001b[1;31mAttributeError\u001b[0m: 'Marsupial' object has no attribute 'put_in_pouch'"
     ]
    }
   ],
   "source": [
    "m = Marsupial()\n",
    "m.put_in_pouch('doll')\n",
    "m.put_in_pouch('firetruck')\n",
    "m.put_in_pouch('kitten')\n",
    "m.pouch_contents()"
   ]
  },
  {
   "cell_type": "code",
   "execution_count": null,
   "metadata": {},
   "outputs": [],
   "source": []
  },
  {
   "cell_type": "markdown",
   "metadata": {},
   "source": [
    "Question 4 Mortgage"
   ]
  },
  {
   "cell_type": "code",
   "execution_count": 11,
   "metadata": {},
   "outputs": [],
   "source": [
    "#simple label and entry method\n",
    "from tkinter import Tk, Label, Entry\n",
    "root = Tk()\n",
    "\n",
    "label = Label(root, text='Loan Amount:')\n",
    "label.grid(row=0, column=0)\n",
    "\n",
    "label = Label(root, text='Interest rate:')\n",
    "label.grid(row=1, column=0)\n",
    "\n",
    "label = Label(root, text='Loan terms:')\n",
    "label.grid(row=2, column=0)\n",
    "\n",
    "label = Label(root, text='Compute mortgage')\n",
    "label.grid(row=3, column=0)\n",
    "\n",
    "dateEnt = Entry(root)\n",
    "dateEnt.grid(row=0, column=1)\n",
    "\n",
    "dateEnt = Entry(root)\n",
    "dateEnt.grid(row=1, column=1)\n",
    "\n",
    "dateEnt = Entry(root)\n",
    "dateEnt.grid(row=2, column=1)\n",
    "\n",
    "dateEnt = Entry(root)\n",
    "dateEnt.grid(row=3, column=1)\n",
    "\n",
    "root.mainloop()"
   ]
  },
  {
   "cell_type": "markdown",
   "metadata": {},
   "source": [
    "Question 4 Calculator"
   ]
  },
  {
   "cell_type": "code",
   "execution_count": null,
   "metadata": {},
   "outputs": [],
   "source": [
    "#couldn't get the entry text to stand alone. When I made the grid it was \n",
    "#stuck in the middle so I typed it out. Now it is on its own but other buttons\n",
    "#are also stretched out\n",
    "from tkinter import *\n",
    "root = Tk()\n",
    "\n",
    "label = Label(root, text='MC')\n",
    "label.grid(row=1, column=0)\n",
    "\n",
    "label = Label(root, text='M+')\n",
    "label.grid(row=1, column=1)\n",
    "\n",
    "label = Label(root, text='M-')\n",
    "label.grid(row=1, column=2)\n",
    "\n",
    "label = Label(root, text='MR')\n",
    "label.grid(row=1, column=3)\n",
    "\n",
    "label = Label(root, text='C')\n",
    "label.grid(row=2, column=0)\n",
    "\n",
    "label = Label(root, text='√')\n",
    "label.grid(row=2, column=1)\n",
    "\n",
    "label = Label(root, text='X²')\n",
    "label.grid(row=2, column=2)\n",
    "\n",
    "label = Label(root, text='+')\n",
    "label.grid(row=2, column=3)\n",
    "\n",
    "label = Label(root, text='7')\n",
    "label.grid(row=3, column=0)\n",
    "\n",
    "label = Label(root, text='8')\n",
    "label.grid(row=3, column=1)\n",
    "\n",
    "label = Label(root, text='9')\n",
    "label.grid(row=3, column=2)\n",
    "\n",
    "label = Label(root, text='-')\n",
    "label.grid(row=3, column=3)\n",
    "\n",
    "label = Label(root, text='4')\n",
    "label.grid(row=4, column=0)\n",
    "\n",
    "label = Label(root, text='5')\n",
    "label.grid(row=4, column=1)\n",
    "\n",
    "label = Label(root, text='6')\n",
    "label.grid(row=4, column=2)\n",
    "\n",
    "label = Label(root, text='+')\n",
    "label.grid(row=4, column=3)\n",
    "\n",
    "label = Label(root, text='1')\n",
    "label.grid(row=5, column=0)\n",
    "\n",
    "label = Label(root, text='2')\n",
    "label.grid(row=5, column=1)\n",
    "\n",
    "label = Label(root, text='3')\n",
    "label.grid(row=5, column=2)\n",
    "\n",
    "label = Label(root, text='/')\n",
    "label.grid(row=5, column=3)\n",
    "\n",
    "label = Label(root, text='0')\n",
    "label.grid(row=6, column=0)\n",
    "\n",
    "label = Label(root, text='.')\n",
    "label.grid(row=6, column=1)\n",
    "\n",
    "label = Label(root, text='+-')\n",
    "label.grid(row=6, column=2)\n",
    "\n",
    "label = Label(root, text='=')\n",
    "label.grid(row=6, column=3)\n",
    "\n",
    "\n",
    "display= Entry(root)\n",
    "display.grid(row=0, column=0)\n",
    "\n",
    "\n",
    "root.mainloop()"
   ]
  },
  {
   "cell_type": "markdown",
   "metadata": {},
   "source": [
    "Question 5"
   ]
  },
  {
   "cell_type": "code",
   "execution_count": 17,
   "metadata": {},
   "outputs": [],
   "source": [
    "def collatz(x):\n",
    "    while x >1: # so the sequence stops at 1\n",
    "        if (x%2)==0:\n",
    "            x= x//2\n",
    "            print(x)\n",
    "            \n",
    "        else:\n",
    "            x= 3*x +1\n",
    "            print (x)\n",
    "x= int()"
   ]
  },
  {
   "cell_type": "code",
   "execution_count": 18,
   "metadata": {},
   "outputs": [],
   "source": [
    "collatz(1) #i couldn't figure out why it doesn't print the number itself"
   ]
  },
  {
   "cell_type": "code",
   "execution_count": 19,
   "metadata": {},
   "outputs": [
    {
     "name": "stdout",
     "output_type": "stream",
     "text": [
      "5\n",
      "16\n",
      "8\n",
      "4\n",
      "2\n",
      "1\n"
     ]
    }
   ],
   "source": [
    "collatz(10)"
   ]
  },
  {
   "cell_type": "markdown",
   "metadata": {},
   "source": [
    "Question 6"
   ]
  },
  {
   "cell_type": "code",
   "execution_count": 30,
   "metadata": {},
   "outputs": [],
   "source": [
    "#recurive method\n",
    "def binary(n):\n",
    "    if n > 1:\n",
    "        binary(n//2) \n",
    "        print(n % 2, end='')"
   ]
  },
  {
   "cell_type": "code",
   "execution_count": 31,
   "metadata": {},
   "outputs": [
    {
     "name": "stdout",
     "output_type": "stream",
     "text": [
      "0"
     ]
    }
   ],
   "source": [
    "binary(0)"
   ]
  },
  {
   "cell_type": "code",
   "execution_count": 32,
   "metadata": {},
   "outputs": [
    {
     "name": "stdout",
     "output_type": "stream",
     "text": [
      "1"
     ]
    }
   ],
   "source": [
    "binary(1)"
   ]
  },
  {
   "cell_type": "code",
   "execution_count": 33,
   "metadata": {},
   "outputs": [
    {
     "name": "stdout",
     "output_type": "stream",
     "text": [
      "11"
     ]
    }
   ],
   "source": [
    "binary(3)"
   ]
  },
  {
   "cell_type": "code",
   "execution_count": 34,
   "metadata": {},
   "outputs": [
    {
     "name": "stdout",
     "output_type": "stream",
     "text": [
      "1001"
     ]
    }
   ],
   "source": [
    "binary(9)"
   ]
  },
  {
   "cell_type": "markdown",
   "metadata": {},
   "source": [
    "Question 7"
   ]
  },
  {
   "cell_type": "code",
   "execution_count": 35,
   "metadata": {},
   "outputs": [],
   "source": [
    "from html.parser import HTMLParser\n",
    "class HeadingParser(): #gave class\n",
    "    def __init__(self):\n",
    "        HeadingParser.__init__(self)\n",
    "        self.indent = 0\n",
    "    def handle_heading (self, tag): #defined heading to read\n",
    "        if tag in {'h1'}:\n",
    "            print ('{}{}'.format(self.indent*'',tag))\n",
    "            self.indent +=0 #indentation as required\n",
    "    def handle_heading (self, tag):\n",
    "        if tag in {'h2'}:\n",
    "            print ('{}{}'.format(self.indent*'',tag))\n",
    "            self.indent +=1\n",
    "#not sure how to get heading used same method for tags "
   ]
  },
  {
   "cell_type": "code",
   "execution_count": 36,
   "metadata": {},
   "outputs": [
    {
     "ename": "RecursionError",
     "evalue": "maximum recursion depth exceeded",
     "output_type": "error",
     "traceback": [
      "\u001b[1;31m---------------------------------------------------------------------------\u001b[0m",
      "\u001b[1;31mRecursionError\u001b[0m                            Traceback (most recent call last)",
      "\u001b[1;32m<ipython-input-36-ee3d0780ac38>\u001b[0m in \u001b[0;36m<module>\u001b[1;34m\u001b[0m\n\u001b[0;32m      2\u001b[0m \u001b[0mcontent\u001b[0m \u001b[1;33m=\u001b[0m \u001b[0minfile\u001b[0m\u001b[1;33m.\u001b[0m\u001b[0mread\u001b[0m\u001b[1;33m(\u001b[0m\u001b[1;33m)\u001b[0m\u001b[1;33m\u001b[0m\u001b[1;33m\u001b[0m\u001b[0m\n\u001b[0;32m      3\u001b[0m \u001b[0minfile\u001b[0m\u001b[1;33m.\u001b[0m\u001b[0mclose\u001b[0m \u001b[1;33m(\u001b[0m\u001b[1;33m)\u001b[0m\u001b[1;33m\u001b[0m\u001b[1;33m\u001b[0m\u001b[0m\n\u001b[1;32m----> 4\u001b[1;33m \u001b[0mhp\u001b[0m\u001b[1;33m=\u001b[0m\u001b[0mHeadingParser\u001b[0m\u001b[1;33m(\u001b[0m\u001b[1;33m)\u001b[0m\u001b[1;33m\u001b[0m\u001b[1;33m\u001b[0m\u001b[0m\n\u001b[0m\u001b[0;32m      5\u001b[0m \u001b[0mhp\u001b[0m\u001b[1;33m.\u001b[0m\u001b[0mfeed\u001b[0m\u001b[1;33m(\u001b[0m\u001b[0mcontent\u001b[0m\u001b[1;33m)\u001b[0m\u001b[1;33m\u001b[0m\u001b[1;33m\u001b[0m\u001b[0m\n",
      "\u001b[1;32m<ipython-input-35-6cff23aaa3d7>\u001b[0m in \u001b[0;36m__init__\u001b[1;34m(self)\u001b[0m\n\u001b[0;32m      2\u001b[0m \u001b[1;32mclass\u001b[0m \u001b[0mHeadingParser\u001b[0m\u001b[1;33m(\u001b[0m\u001b[1;33m)\u001b[0m\u001b[1;33m:\u001b[0m \u001b[1;31m#gave class\u001b[0m\u001b[1;33m\u001b[0m\u001b[1;33m\u001b[0m\u001b[0m\n\u001b[0;32m      3\u001b[0m     \u001b[1;32mdef\u001b[0m \u001b[0m__init__\u001b[0m\u001b[1;33m(\u001b[0m\u001b[0mself\u001b[0m\u001b[1;33m)\u001b[0m\u001b[1;33m:\u001b[0m\u001b[1;33m\u001b[0m\u001b[1;33m\u001b[0m\u001b[0m\n\u001b[1;32m----> 4\u001b[1;33m         \u001b[0mHeadingParser\u001b[0m\u001b[1;33m.\u001b[0m\u001b[0m__init__\u001b[0m\u001b[1;33m(\u001b[0m\u001b[0mself\u001b[0m\u001b[1;33m)\u001b[0m\u001b[1;33m\u001b[0m\u001b[1;33m\u001b[0m\u001b[0m\n\u001b[0m\u001b[0;32m      5\u001b[0m         \u001b[0mself\u001b[0m\u001b[1;33m.\u001b[0m\u001b[0mindent\u001b[0m \u001b[1;33m=\u001b[0m \u001b[1;36m0\u001b[0m\u001b[1;33m\u001b[0m\u001b[1;33m\u001b[0m\u001b[0m\n\u001b[0;32m      6\u001b[0m     \u001b[1;32mdef\u001b[0m \u001b[0mhandle_heading\u001b[0m \u001b[1;33m(\u001b[0m\u001b[0mself\u001b[0m\u001b[1;33m,\u001b[0m \u001b[0mtag\u001b[0m\u001b[1;33m)\u001b[0m\u001b[1;33m:\u001b[0m \u001b[1;31m#defined heading to read\u001b[0m\u001b[1;33m\u001b[0m\u001b[1;33m\u001b[0m\u001b[0m\n",
      "... last 1 frames repeated, from the frame below ...\n",
      "\u001b[1;32m<ipython-input-35-6cff23aaa3d7>\u001b[0m in \u001b[0;36m__init__\u001b[1;34m(self)\u001b[0m\n\u001b[0;32m      2\u001b[0m \u001b[1;32mclass\u001b[0m \u001b[0mHeadingParser\u001b[0m\u001b[1;33m(\u001b[0m\u001b[1;33m)\u001b[0m\u001b[1;33m:\u001b[0m \u001b[1;31m#gave class\u001b[0m\u001b[1;33m\u001b[0m\u001b[1;33m\u001b[0m\u001b[0m\n\u001b[0;32m      3\u001b[0m     \u001b[1;32mdef\u001b[0m \u001b[0m__init__\u001b[0m\u001b[1;33m(\u001b[0m\u001b[0mself\u001b[0m\u001b[1;33m)\u001b[0m\u001b[1;33m:\u001b[0m\u001b[1;33m\u001b[0m\u001b[1;33m\u001b[0m\u001b[0m\n\u001b[1;32m----> 4\u001b[1;33m         \u001b[0mHeadingParser\u001b[0m\u001b[1;33m.\u001b[0m\u001b[0m__init__\u001b[0m\u001b[1;33m(\u001b[0m\u001b[0mself\u001b[0m\u001b[1;33m)\u001b[0m\u001b[1;33m\u001b[0m\u001b[1;33m\u001b[0m\u001b[0m\n\u001b[0m\u001b[0;32m      5\u001b[0m         \u001b[0mself\u001b[0m\u001b[1;33m.\u001b[0m\u001b[0mindent\u001b[0m \u001b[1;33m=\u001b[0m \u001b[1;36m0\u001b[0m\u001b[1;33m\u001b[0m\u001b[1;33m\u001b[0m\u001b[0m\n\u001b[0;32m      6\u001b[0m     \u001b[1;32mdef\u001b[0m \u001b[0mhandle_heading\u001b[0m \u001b[1;33m(\u001b[0m\u001b[0mself\u001b[0m\u001b[1;33m,\u001b[0m \u001b[0mtag\u001b[0m\u001b[1;33m)\u001b[0m\u001b[1;33m:\u001b[0m \u001b[1;31m#defined heading to read\u001b[0m\u001b[1;33m\u001b[0m\u001b[1;33m\u001b[0m\u001b[0m\n",
      "\u001b[1;31mRecursionError\u001b[0m: maximum recursion depth exceeded"
     ]
    }
   ],
   "source": [
    "infile = open ('W3C.html') #imported file\n",
    "content = infile.read()\n",
    "infile.close ()\n",
    "hp=HeadingParser()\n",
    "hp.feed(content)"
   ]
  },
  {
   "cell_type": "markdown",
   "metadata": {},
   "source": [
    "Question 8"
   ]
  },
  {
   "cell_type": "code",
   "execution_count": 37,
   "metadata": {},
   "outputs": [
    {
     "ename": "SyntaxError",
     "evalue": "EOL while scanning string literal (<ipython-input-37-86a9f79dc4a8>, line 1)",
     "output_type": "error",
     "traceback": [
      "\u001b[1;36m  File \u001b[1;32m\"<ipython-input-37-86a9f79dc4a8>\"\u001b[1;36m, line \u001b[1;32m1\u001b[0m\n\u001b[1;33m    url= 'http://reed.cs.depaul.edu/lperkovic/csc242/test1.html\u001b[0m\n\u001b[1;37m                                                               ^\u001b[0m\n\u001b[1;31mSyntaxError\u001b[0m\u001b[1;31m:\u001b[0m EOL while scanning string literal\n"
     ]
    }
   ],
   "source": [
    "url= 'http://reed.cs.depaul.edu/lperkovic/csc242/test1.html\n",
    "resource= urlopen (url)\n",
    "content = resource.read().decode()\n",
    "collector = Collector()\n",
    "collector.feed(content)\n",
    "collector.getLinks()"
   ]
  },
  {
   "cell_type": "markdown",
   "metadata": {},
   "source": [
    "Question 9"
   ]
  },
  {
   "cell_type": "code",
   "execution_count": null,
   "metadata": {},
   "outputs": [],
   "source": [
    "import sqlite3\n",
    "con = sqlite3.connect('weather.txt')\n",
    "cur = con.cursor()\n",
    "cur.execute (\"CREATE TABLE keywords (City text, Country text, Season text, Temperature int, Rainfall int)\")\n",
    "cur.execute(\"INSERT INTO keywords VALUES ('Numbai', 'India', 'Winter', 24.8, 5.9)\")\n",
    "City, Country, Season, Temperature, Rainfall = 'Numbai', 'India', 'Spring', 28.4, 16.2\n",
    "cur.execute(\"INSERT INTO Keywords VALUES (?,?,?,?,?)\", (City, Country, Season, Temperature, Rainfall))\n",
    "record = ('Numbai', 'India', 'Summer', 27.9, 1549.4)\n",
    "cur.execute(\"INSERT INTO keywords VALUES (?,?,?,?,?)\", record)\n",
    "record= ('Numbai', 'India', 'Fall', 27.6, 346.0)\n",
    "cur.execute(\"INSERT INTO keywords VALUES (?,?,?,?,?)\", record)\n",
    "record= ('London', 'United Kingdom', 'Winter', 4.2, 207.7)\n",
    "cur.execute(\"INSERT INTO keywords VALUES (?,?,?,?,?)\", record)\n",
    "record= ('London','United Kingdom', 'Spring', 8.3, 169.6)\n",
    "cur.execute(\"INSERT INTO keywords VALUES (?,?,?,?,?)\", record)\n",
    "record= ('London','United Kingdom', 'Summer', 15.7, 157.0)\n",
    "cur.execute(\"INSERT INTO keywords VALUES (?,?,?,?,?)\", record)\n",
    "record= ('London','United Kingdom', 'Fall', 10.4, 218.5)\n",
    "cur.execute(\"INSERT INTO keywords VALUES (?,?,?,?,?)\", record)\n",
    "record= ('Cairo', 'Egypt', 'Winter', 13.6, 16.5)\n",
    "cur.execute(\"INSERT INTO keywords VALUES (?,?,?,?,?)\", record)\n",
    "record= ('Cairo', 'Egypt', 'Spring', 20.7, 6.5)\n",
    "cur.execute(\"INSERT INTO keywords VALUES (?,?,?,?,?)\", record)\n",
    "record= ('Cairo', 'Egypt', 'Summer', 27.7, 0.1)\n",
    "cur.execute(\"INSERT INTO keywords VALUES (?,?,?,?,?)\", record)\n",
    "record= ('Cairo', 'Egypt', 'Fall', 22.2, 4.5)\n",
    "cur.execute(\"INSERT INTO keywords VALUES (?,?,?,?,?)\", record)\n",
    "con.commit()\n",
    "con.close()"
   ]
  },
  {
   "cell_type": "code",
   "execution_count": 40,
   "metadata": {},
   "outputs": [
    {
     "data": {
      "text/plain": [
       "[(24.8,),\n",
       " (28.4,),\n",
       " (28.4,),\n",
       " (27.9,),\n",
       " (27.6,),\n",
       " (4.2,),\n",
       " (8.3,),\n",
       " (15.7,),\n",
       " (10.4,),\n",
       " (13.6,),\n",
       " (20.7,),\n",
       " (27.7,),\n",
       " (22.2,)]"
      ]
     },
     "execution_count": 40,
     "metadata": {},
     "output_type": "execute_result"
    }
   ],
   "source": [
    "# a)\n",
    "import sqlite3\n",
    "con = sqlite3.connect('weather.txt')\n",
    "cur= con.cursor()\n",
    "cur.execute ('SELECT Temperature FROM Keywords')\n",
    "cur.fetchall()"
   ]
  },
  {
   "cell_type": "code",
   "execution_count": 41,
   "metadata": {},
   "outputs": [
    {
     "data": {
      "text/plain": [
       "[('Cairo',), ('London',), ('Numbai',)]"
      ]
     },
     "execution_count": 41,
     "metadata": {},
     "output_type": "execute_result"
    }
   ],
   "source": [
    "# b)\n",
    "import sqlite3\n",
    "con = sqlite3.connect('weather.txt')\n",
    "cur= con.cursor()\n",
    "cur.execute ('SELECT City FROM Keywords Group by City')\n",
    "cur.fetchall()"
   ]
  },
  {
   "cell_type": "code",
   "execution_count": 42,
   "metadata": {},
   "outputs": [
    {
     "data": {
      "text/plain": [
       "[('Numbai', 'India', 'Winter', 24.8, 5.9),\n",
       " ('Numbai', 'India', 'Winter', 28.4, 16.2),\n",
       " ('Numbai', 'India', 'Spring', 28.4, 16.2),\n",
       " ('Numbai', 'India', 'Summer', 27.9, 1549.4),\n",
       " ('Numbai', 'India', 'Fall', 27.6, 346.0)]"
      ]
     },
     "execution_count": 42,
     "metadata": {},
     "output_type": "execute_result"
    }
   ],
   "source": [
    "# c)\n",
    "import sqlite3\n",
    "con = sqlite3.connect('weather.txt')\n",
    "cur= con.cursor()\n",
    "cur.execute ('SELECT * FROM Keywords WHERE Country = \"India\"')\n",
    "cur.fetchall()"
   ]
  },
  {
   "cell_type": "code",
   "execution_count": 43,
   "metadata": {},
   "outputs": [
    {
     "data": {
      "text/plain": [
       "[('Numbai', 'India', 'Fall', 27.6, 346.0),\n",
       " ('London', 'United Kingdom', 'Fall', 10.4, 218.5),\n",
       " ('Cairo', 'Egypt', 'Fall', 22.2, 4.5)]"
      ]
     },
     "execution_count": 43,
     "metadata": {},
     "output_type": "execute_result"
    }
   ],
   "source": [
    "# d)\n",
    "import sqlite3\n",
    "con = sqlite3.connect('weather.txt')\n",
    "cur= con.cursor()\n",
    "cur.execute ('SELECT * FROM Keywords WHERE Season = \"Fall\"')\n",
    "cur.fetchall()\n"
   ]
  },
  {
   "cell_type": "code",
   "execution_count": 44,
   "metadata": {},
   "outputs": [
    {
     "data": {
      "text/plain": [
       "[('Numbai', 'India', 'Fall'),\n",
       " ('London', 'United Kingdom', 'Winter'),\n",
       " ('London', 'United Kingdom', 'Fall')]"
      ]
     },
     "execution_count": 44,
     "metadata": {},
     "output_type": "execute_result"
    }
   ],
   "source": [
    "# e)\n",
    "import sqlite3\n",
    "con = sqlite3.connect('weather.txt')\n",
    "cur= con.cursor()\n",
    "cur.execute ('SELECT City, Country, Season FROM Keywords WHERE Rainfall BETWEEN 200 and 400')\n",
    "cur.fetchall()\n"
   ]
  },
  {
   "cell_type": "code",
   "execution_count": 45,
   "metadata": {},
   "outputs": [
    {
     "data": {
      "text/plain": [
       "[('Numbai', 'India'),\n",
       " ('Numbai', 'India'),\n",
       " ('Numbai', 'India'),\n",
       " ('Numbai', 'India'),\n",
       " ('Numbai', 'India'),\n",
       " ('Cairo', 'Egypt'),\n",
       " ('Cairo', 'Egypt'),\n",
       " ('Cairo', 'Egypt')]"
      ]
     },
     "execution_count": 45,
     "metadata": {},
     "output_type": "execute_result"
    }
   ],
   "source": [
    "# f)\n",
    "import sqlite3\n",
    "con = sqlite3.connect('weather.txt')\n",
    "cur= con.cursor()\n",
    "cur.execute ('SELECT City, Country FROM Keywords WHERE Temperature> 20')\n",
    "cur.fetchall()"
   ]
  },
  {
   "cell_type": "code",
   "execution_count": 46,
   "metadata": {},
   "outputs": [
    {
     "data": {
      "text/plain": [
       "[(5.9,), (16.5,)]"
      ]
     },
     "execution_count": 46,
     "metadata": {},
     "output_type": "execute_result"
    }
   ],
   "source": [
    "# g)\n",
    "import sqlite3\n",
    "con = sqlite3.connect('weather.txt')\n",
    "cur= con.cursor()\n",
    "cur.execute ('SELECT Rainfall FROM Keywords Group by City = \"Cairo\"')\n",
    "cur.fetchall() # I don't know why it didn't gorup everything together"
   ]
  },
  {
   "cell_type": "code",
   "execution_count": 47,
   "metadata": {},
   "outputs": [
    {
     "data": {
      "text/plain": [
       "[('Fall', 346.0), ('Spring', 16.2), ('Summer', 1549.4), ('Winter', 5.9)]"
      ]
     },
     "execution_count": 47,
     "metadata": {},
     "output_type": "execute_result"
    }
   ],
   "source": [
    "# h)\n",
    "import sqlite3\n",
    "con = sqlite3.connect('weather.txt')\n",
    "cur= con.cursor()\n",
    "cur.execute ('SELECT Season, Rainfall FROM Keywords Group by Season')\n",
    "cur.fetchall()\n"
   ]
  },
  {
   "cell_type": "markdown",
   "metadata": {},
   "source": [
    "Question 10"
   ]
  },
  {
   "cell_type": "code",
   "execution_count": 48,
   "metadata": {},
   "outputs": [
    {
     "data": {
      "text/plain": [
       "['THE', 'QUICK', 'BROWN', 'FOX', 'JUMPS', 'OVER', 'THE', 'LAZY', 'DOG']"
      ]
     },
     "execution_count": 48,
     "metadata": {},
     "output_type": "execute_result"
    }
   ],
   "source": [
    "# a)\n",
    "#https://www.pythonforbeginners.com/basics/list-comprehensions-in-python\n",
    "words = ['The', 'quick', 'brown', 'fox', 'jumps', 'over', 'the', 'lazy', 'dog']\n",
    "[x.upper() for x in (words)]"
   ]
  },
  {
   "cell_type": "code",
   "execution_count": 49,
   "metadata": {},
   "outputs": [
    {
     "data": {
      "text/plain": [
       "['the', 'quick', 'brown', 'fox', 'jumps', 'over', 'the', 'lazy', 'dog']"
      ]
     },
     "execution_count": 49,
     "metadata": {},
     "output_type": "execute_result"
    }
   ],
   "source": [
    "# b)\n",
    "words = ['The', 'quick', 'brown', 'fox', 'jumps', 'over', 'the', 'lazy', 'dog']\n",
    "[x.lower() for x in (words)]"
   ]
  },
  {
   "cell_type": "code",
   "execution_count": 51,
   "metadata": {},
   "outputs": [
    {
     "name": "stdout",
     "output_type": "stream",
     "text": [
      "[3, 5, 5, 3, 5, 4, 3, 4, 3]\n"
     ]
    }
   ],
   "source": [
    "# c)\n",
    "from multiprocessing import Pool\n",
    "\n",
    "words = ['The', 'quick', 'brown', 'fox', 'jumps', 'over', 'the', 'lazy', 'dog']\n",
    "\n",
    "pool = Pool(2)\n",
    "res = pool.map (len, words)\n",
    "print (res) "
   ]
  },
  {
   "cell_type": "code",
   "execution_count": 53,
   "metadata": {},
   "outputs": [
    {
     "name": "stdout",
     "output_type": "stream",
     "text": [
      "THE the 3 QUICK quick 5 BROWN brown 5 FOX fox 3 JUMPS jumps 5 OVER over 4 THE the 3 LAZY lazy 4 DOG dog 3\n"
     ]
    }
   ],
   "source": [
    "# d)\n",
    "from multiprocessing import Pool\n",
    "\n",
    "words = ['The', 'quick', 'brown', 'fox', 'jumps', 'over', 'the', 'lazy', 'dog']\n",
    "lowerwords= [x.lower() for x in (words)]\n",
    "upperwords= [x.upper() for x in (words)]\n",
    "pool = Pool(2)\n",
    "res = pool.map (len, words)\n",
    "print (upperwords[0], lowerwords[0], res[0],\n",
    "      upperwords[1], lowerwords[1], res[1],\n",
    "      upperwords[2], lowerwords[2], res[2],\n",
    "      upperwords[3], lowerwords[3], res[3],\n",
    "      upperwords[4], lowerwords[4], res[4],\n",
    "      upperwords[5], lowerwords[5], res[5],\n",
    "      upperwords[6], lowerwords[6], res[6],\n",
    "      upperwords[7], lowerwords[7], res[7],\n",
    "      upperwords[8], lowerwords[8], res[8]) \n",
    "#doesn't look like the example and function is long but this is what I've got"
   ]
  },
  {
   "cell_type": "code",
   "execution_count": 52,
   "metadata": {},
   "outputs": [
    {
     "name": "stdout",
     "output_type": "stream",
     "text": [
      "False,True,True,False,True,True,False,True,False,"
     ]
    }
   ],
   "source": [
    "# e)\n",
    "#only could get the boolean value of the word instead of printing actual words\n",
    "words = ['The', 'quick', 'brown', 'fox', 'jumps', 'over', 'the', 'lazy', 'dog']\n",
    "for words in words:\n",
    "    newlist=len (words)>= 4\n",
    "    print (newlist, end=',') "
   ]
  }
 ],
 "metadata": {
  "kernelspec": {
   "display_name": "Python 3",
   "language": "python",
   "name": "python3"
  },
  "language_info": {
   "codemirror_mode": {
    "name": "ipython",
    "version": 3
   },
   "file_extension": ".py",
   "mimetype": "text/x-python",
   "name": "python",
   "nbconvert_exporter": "python",
   "pygments_lexer": "ipython3",
   "version": "3.8.3"
  }
 },
 "nbformat": 4,
 "nbformat_minor": 4
}
